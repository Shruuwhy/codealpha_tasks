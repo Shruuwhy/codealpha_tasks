{
  "nbformat": 4,
  "nbformat_minor": 0,
  "metadata": {
    "colab": {
      "provenance": []
    },
    "kernelspec": {
      "name": "python3",
      "display_name": "Python 3"
    },
    "language_info": {
      "name": "python"
    }
  },
  "cells": [
    {
      "cell_type": "code",
      "execution_count": null,
      "metadata": {
        "id": "yRI_p214OVL1"
      },
      "outputs": [],
      "source": [
        "import streamlit as st\n",
        "import nltk\n",
        "import numpy as np\n",
        "import string\n",
        "from sklearn.feature_extraction.text import TfidfVectorizer\n",
        "from sklearn.metrics.pairwise import cosine_similarity\n",
        "from nltk.stem import WordNetLemmatizer\n",
        "\n",
        "# Download NLTK data\n",
        "nltk.download('punkt')\n",
        "nltk.download('wordnet')\n",
        "\n",
        "# Initialize lemmatizer\n",
        "lemmatizer = WordNetLemmatizer()\n",
        "\n",
        "# Predefined FAQs\n",
        "faq_data = {\n",
        "    \"What is your return policy?\": \"You can return any product within 30 days of purchase.\",\n",
        "    \"How can I track my order?\": \"You can track your order using the tracking ID sent to your email.\",\n",
        "    \"Do you offer international shipping?\": \"Yes, we ship to over 50 countries worldwide.\",\n",
        "    \"How do I contact customer support?\": \"You can contact our support via chat or email at support@example.com.\",\n",
        "    \"What payment methods are accepted?\": \"We accept credit cards, debit cards, PayPal, and UPI.\"\n",
        "}\n",
        "\n",
        "# Preprocess function\n",
        "def preprocess(text):\n",
        "    text = text.lower().translate(str.maketrans('', '', string.punctuation))\n",
        "    tokens = nltk.word_tokenize(text)\n",
        "    return ' '.join([lemmatizer.lemmatize(word) for word in tokens])\n",
        "\n",
        "# FAQ questions and answers\n",
        "questions = list(faq_data.keys())\n",
        "answers = list(faq_data.values())\n",
        "\n",
        "# Preprocess the questions\n",
        "processed_questions = [preprocess(q) for q in questions]\n",
        "\n",
        "# TF-IDF setup\n",
        "vectorizer = TfidfVectorizer()\n",
        "vectorized_questions = vectorizer.fit_transform(processed_questions)\n",
        "\n",
        "# Streamlit UI\n",
        "st.set_page_config(page_title=\"FAQ Chatbot 🤖\")\n",
        "st.title(\"🤖 FAQ Chatbot\")\n",
        "st.write(\"Ask a question about our product or service:\")\n",
        "\n",
        "user_input = st.text_input(\"Your question:\")\n",
        "\n",
        "if user_input:\n",
        "    processed_input = preprocess(user_input)\n",
        "    vectorized_input = vectorizer.transform([processed_input])\n",
        "    similarity_scores = cosine_similarity(vectorized_input, vectorized_questions)\n",
        "\n",
        "    idx = np.argmax(similarity_scores)\n",
        "    score = similarity_scores[0][idx]\n",
        "\n",
        "    if score > 0.3:\n",
        "        st.success(f\"Answer: {answers[idx]}\")\n",
        "    else:\n",
        "        st.warning(\"Sorry, I don't have an answer to that. Please contact support.\")\n"
      ]
    }
  ]
}